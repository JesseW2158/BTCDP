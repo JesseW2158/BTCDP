{
 "cells": [
  {
   "cell_type": "code",
   "execution_count": 1,
   "id": "7fb73b4f",
   "metadata": {
    "execution": {
     "iopub.execute_input": "2024-12-08T05:55:19.906854Z",
     "iopub.status.busy": "2024-12-08T05:55:19.906523Z",
     "iopub.status.idle": "2024-12-08T05:55:20.437468Z",
     "shell.execute_reply": "2024-12-08T05:55:20.436782Z"
    },
    "papermill": {
     "duration": 0.536655,
     "end_time": "2024-12-08T05:55:20.439605",
     "exception": false,
     "start_time": "2024-12-08T05:55:19.902950",
     "status": "completed"
    },
    "tags": []
   },
   "outputs": [],
   "source": [
    "import cv2\n",
    "import random\n",
    "import os\n",
    "import math\n",
    "import numpy as np\n",
    "import pydicom\n",
    "import matplotlib.pyplot as plt\n",
    "\n",
    "from PIL import Image\n",
    "from skimage import color\n",
    "\n",
    "import warnings\n",
    "warnings.filterwarnings(\"ignore\")\n",
    "\n",
    "input_dir = '/kaggle/input/brain-tumor-progression-tcia/Brain-Tumor-Progression'\n",
    "out_dir = '/kaggle/working/'"
   ]
  },
  {
   "cell_type": "code",
   "execution_count": 2,
   "id": "43202435",
   "metadata": {
    "execution": {
     "iopub.execute_input": "2024-12-08T05:55:20.445138Z",
     "iopub.status.busy": "2024-12-08T05:55:20.444762Z",
     "iopub.status.idle": "2024-12-08T05:55:20.450181Z",
     "shell.execute_reply": "2024-12-08T05:55:20.449490Z"
    },
    "papermill": {
     "duration": 0.009881,
     "end_time": "2024-12-08T05:55:20.451720",
     "exception": false,
     "start_time": "2024-12-08T05:55:20.441839",
     "status": "completed"
    },
    "tags": []
   },
   "outputs": [],
   "source": [
    "def data_and_mask_to_list(read_dir):\n",
    "    t1post_images = []\n",
    "    mask_tumor_image = []\n",
    "    \n",
    "    for folder in os.listdir(read_dir):\n",
    "        if folder.find(\"T1post\") > -1:\n",
    "            t1post_images_path = [ read_dir + '/' + folder + '/' + image for image in os.listdir(read_dir + '/' + folder) ]\n",
    "        elif folder.find(\"MaskTumor\") > -1:\n",
    "            mask_tumor_images_path = [ read_dir + '/' + folder + '/' + image for image in os.listdir(read_dir + '/' + folder) ]\n",
    "\n",
    "    # print(list(zip(t1post_images_path, mask_tumor_images_path)))\n",
    "    return list(zip(t1post_images_path, mask_tumor_images_path))"
   ]
  },
  {
   "cell_type": "code",
   "execution_count": 3,
   "id": "86eb4343",
   "metadata": {
    "execution": {
     "iopub.execute_input": "2024-12-08T05:55:20.456548Z",
     "iopub.status.busy": "2024-12-08T05:55:20.456015Z",
     "iopub.status.idle": "2024-12-08T05:55:20.459332Z",
     "shell.execute_reply": "2024-12-08T05:55:20.458552Z"
    },
    "papermill": {
     "duration": 0.007545,
     "end_time": "2024-12-08T05:55:20.460960",
     "exception": false,
     "start_time": "2024-12-08T05:55:20.453415",
     "status": "completed"
    },
    "tags": []
   },
   "outputs": [],
   "source": [
    "# for IM in image_and_mask:\n",
    "#     dcm_t1post = pydicom.dcmread(t1post_images_path + '/' + IM[0])\n",
    "#     dcm_mask = pydicom.dcmread(mask_tumor_image_path + '/' + IM[1])\n",
    "    \n",
    "#     img = ds.pixel_array.astype(float)\n",
    "#     scaled_img = np.uint8((np.maximum(img, 0) / img.max()) * 255)\n",
    "\n",
    "# cv2.imwrite(write_folder + '/' + image.replace('.dcm','.png'), scaled_img)\n"
   ]
  },
  {
   "cell_type": "code",
   "execution_count": 4,
   "id": "37e1b095",
   "metadata": {
    "execution": {
     "iopub.execute_input": "2024-12-08T05:55:20.465390Z",
     "iopub.status.busy": "2024-12-08T05:55:20.465175Z",
     "iopub.status.idle": "2024-12-08T05:55:20.991373Z",
     "shell.execute_reply": "2024-12-08T05:55:20.990408Z"
    },
    "papermill": {
     "duration": 0.530977,
     "end_time": "2024-12-08T05:55:20.993673",
     "exception": false,
     "start_time": "2024-12-08T05:55:20.462696",
     "status": "completed"
    },
    "tags": []
   },
   "outputs": [],
   "source": [
    "patients = [p for p in os.listdir(input_dir)]\n",
    "patients.remove('LICENSE')\n",
    "\n",
    "data_mask_path_list = []\n",
    "\n",
    "for patient in patients:\n",
    "    # os.makedirs(out_dir + patient) UNCOMMENT LATER\n",
    "    for dir in os.listdir(input_dir + '/' + patient):\n",
    "        data_mask_path_list.extend(data_and_mask_to_list(input_dir + \"/\" + patient + \"/\" + dir))\n",
    "\n",
    "random.shuffle(data_mask_path_list)\n",
    "\n",
    "train_data_path_list = data_mask_path_list[: int(len(data_mask_path_list)  * 0.8)]\n",
    "test_data_path_list = data_mask_path_list[int(len(data_mask_path_list) * 0.8):]"
   ]
  },
  {
   "cell_type": "code",
   "execution_count": 5,
   "id": "eb16e8f4",
   "metadata": {
    "execution": {
     "iopub.execute_input": "2024-12-08T05:55:20.998900Z",
     "iopub.status.busy": "2024-12-08T05:55:20.998618Z",
     "iopub.status.idle": "2024-12-08T05:55:22.060282Z",
     "shell.execute_reply": "2024-12-08T05:55:22.058942Z"
    },
    "papermill": {
     "duration": 1.066629,
     "end_time": "2024-12-08T05:55:22.062389",
     "exception": false,
     "start_time": "2024-12-08T05:55:20.995760",
     "status": "completed"
    },
    "tags": []
   },
   "outputs": [],
   "source": [
    "!rm -rf /kaggle/working/*"
   ]
  },
  {
   "cell_type": "code",
   "execution_count": 6,
   "id": "a470ac99",
   "metadata": {
    "execution": {
     "iopub.execute_input": "2024-12-08T05:55:22.067362Z",
     "iopub.status.busy": "2024-12-08T05:55:22.067049Z",
     "iopub.status.idle": "2024-12-08T05:55:22.071419Z",
     "shell.execute_reply": "2024-12-08T05:55:22.070565Z"
    },
    "papermill": {
     "duration": 0.008655,
     "end_time": "2024-12-08T05:55:22.072944",
     "exception": false,
     "start_time": "2024-12-08T05:55:22.064289",
     "status": "completed"
    },
    "tags": []
   },
   "outputs": [],
   "source": [
    "# import torch\n",
    "# import torchvision\n",
    "\n",
    "# print(\"PyTorch version:\", torch.__version__)\n",
    "# print(\"Torchvision version:\", torchvision.__version__)\n",
    "# print(\"CUDA is available:\", torch.cuda.is_available())\n",
    "\n",
    "# import sys\n",
    "\n",
    "# !{sys.executable} -m pip install opencv-python matplotlib\n",
    "# !{sys.executable} -m pip install 'git+https://github.com/facebookresearch/sam2.git'\n",
    "\n",
    "# !mkdir -p images\n",
    "# !wget -P images https://raw.githubusercontent.com/facebookresearch/sam2/main/notebooks/images/cars.jpg\n",
    "\n",
    "# !mkdir -p ../checkpoints/\n",
    "# !wget -P ../checkpoints/ https://dl.fbaipublicfiles.com/segment_anything_2/092824/sam2.1_hiera_large.pt"
   ]
  }
 ],
 "metadata": {
  "kaggle": {
   "accelerator": "nvidiaTeslaT4",
   "dataSources": [
    {
     "datasetId": 17810,
     "sourceId": 23812,
     "sourceType": "datasetVersion"
    },
    {
     "datasetId": 843852,
     "sourceId": 3866417,
     "sourceType": "datasetVersion"
    },
    {
     "datasetId": 6158268,
     "sourceId": 10004472,
     "sourceType": "datasetVersion"
    }
   ],
   "dockerImageVersionId": 30786,
   "isGpuEnabled": true,
   "isInternetEnabled": true,
   "language": "python",
   "sourceType": "notebook"
  },
  "kernelspec": {
   "display_name": "Python 3",
   "language": "python",
   "name": "python3"
  },
  "language_info": {
   "codemirror_mode": {
    "name": "ipython",
    "version": 3
   },
   "file_extension": ".py",
   "mimetype": "text/x-python",
   "name": "python",
   "nbconvert_exporter": "python",
   "pygments_lexer": "ipython3",
   "version": "3.10.14"
  },
  "papermill": {
   "default_parameters": {},
   "duration": 5.156141,
   "end_time": "2024-12-08T05:55:22.392339",
   "environment_variables": {},
   "exception": null,
   "input_path": "__notebook__.ipynb",
   "output_path": "__notebook__.ipynb",
   "parameters": {},
   "start_time": "2024-12-08T05:55:17.236198",
   "version": "2.6.0"
  }
 },
 "nbformat": 4,
 "nbformat_minor": 5
}
