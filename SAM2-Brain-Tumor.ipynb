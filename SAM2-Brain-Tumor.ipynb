{
 "cells": [
  {
   "cell_type": "code",
   "execution_count": 1,
   "id": "bcc805ab",
   "metadata": {
    "execution": {
     "iopub.execute_input": "2024-12-13T20:32:46.839414Z",
     "iopub.status.busy": "2024-12-13T20:32:46.838908Z",
     "iopub.status.idle": "2024-12-13T20:32:47.476413Z",
     "shell.execute_reply": "2024-12-13T20:32:47.475304Z"
    },
    "papermill": {
     "duration": 0.644889,
     "end_time": "2024-12-13T20:32:47.479000",
     "exception": false,
     "start_time": "2024-12-13T20:32:46.834111",
     "status": "completed"
    },
    "tags": []
   },
   "outputs": [],
   "source": [
    "import cv2\n",
    "import random\n",
    "import os\n",
    "import math\n",
    "import numpy as np\n",
    "import pydicom\n",
    "import matplotlib.pyplot as plt\n",
    "\n",
    "from PIL import Image\n",
    "from skimage import color\n",
    "\n",
    "import warnings\n",
    "warnings.filterwarnings(\"ignore\")\n",
    "\n",
    "input_dir = '/kaggle/input/brain-tumor-progression-tcia/Brain-Tumor-Progression'\n",
    "out_dir = '/kaggle/working/'"
   ]
  },
  {
   "cell_type": "code",
   "execution_count": 2,
   "id": "d35bef65",
   "metadata": {
    "execution": {
     "iopub.execute_input": "2024-12-13T20:32:47.486303Z",
     "iopub.status.busy": "2024-12-13T20:32:47.485815Z",
     "iopub.status.idle": "2024-12-13T20:32:47.493293Z",
     "shell.execute_reply": "2024-12-13T20:32:47.492048Z"
    },
    "papermill": {
     "duration": 0.013896,
     "end_time": "2024-12-13T20:32:47.495889",
     "exception": false,
     "start_time": "2024-12-13T20:32:47.481993",
     "status": "completed"
    },
    "tags": []
   },
   "outputs": [],
   "source": [
    "def data_and_mask_to_list(read_dir):\n",
    "    t1post_images = []\n",
    "    mask_tumor_image = []\n",
    "    \n",
    "    for folder in os.listdir(read_dir):\n",
    "        if folder.find(\"T1post\") > -1:\n",
    "            t1post_images_path = [ read_dir + '/' + folder + '/' + image for image in os.listdir(read_dir + '/' + folder) ]\n",
    "        elif folder.find(\"MaskTumor\") > -1:\n",
    "            mask_tumor_images_path = [ read_dir + '/' + folder + '/' + image for image in os.listdir(read_dir + '/' + folder) ]\n",
    "\n",
    "    return list(zip(t1post_images_path, mask_tumor_images_path))"
   ]
  },
  {
   "cell_type": "code",
   "execution_count": 3,
   "id": "a5f44df6",
   "metadata": {
    "execution": {
     "iopub.execute_input": "2024-12-13T20:32:47.502613Z",
     "iopub.status.busy": "2024-12-13T20:32:47.502269Z",
     "iopub.status.idle": "2024-12-13T20:32:48.115527Z",
     "shell.execute_reply": "2024-12-13T20:32:48.114468Z"
    },
    "papermill": {
     "duration": 0.619692,
     "end_time": "2024-12-13T20:32:48.118211",
     "exception": false,
     "start_time": "2024-12-13T20:32:47.498519",
     "status": "completed"
    },
    "tags": []
   },
   "outputs": [],
   "source": [
    "patients = [p for p in os.listdir(input_dir)]\n",
    "patients.remove('LICENSE')\n",
    "\n",
    "data_mask_path_list = []\n",
    "\n",
    "for patient in patients:\n",
    "    # os.makedirs(out_dir + patient) UNCOMMENT LATER\n",
    "    for dir in os.listdir(input_dir + '/' + patient):\n",
    "        data_mask_path_list.extend(data_and_mask_to_list(input_dir + \"/\" + patient + \"/\" + dir))\n",
    "\n",
    "random.shuffle(data_mask_path_list)\n",
    "\n",
    "train_data_path_list = data_mask_path_list[: int(len(data_mask_path_list)  * 0.8)]\n",
    "test_data_path_list = data_mask_path_list[int(len(data_mask_path_list) * 0.8):]\n",
    "\n",
    "trainX, trainY = [x[0] for x in train_data_path_list ], [y[1] for y in train_data_path_list]\n",
    "# testX, testY = "
   ]
  },
  {
   "cell_type": "code",
   "execution_count": 4,
   "id": "d7875f5e",
   "metadata": {
    "execution": {
     "iopub.execute_input": "2024-12-13T20:32:48.125179Z",
     "iopub.status.busy": "2024-12-13T20:32:48.124787Z",
     "iopub.status.idle": "2024-12-13T20:32:48.129826Z",
     "shell.execute_reply": "2024-12-13T20:32:48.128803Z"
    },
    "papermill": {
     "duration": 0.011074,
     "end_time": "2024-12-13T20:32:48.132010",
     "exception": false,
     "start_time": "2024-12-13T20:32:48.120936",
     "status": "completed"
    },
    "tags": []
   },
   "outputs": [],
   "source": [
    "def data_path_list(x_path_list, y_path_list):\n",
    "    print(len(x_path_list) == len(y_path_list))\n",
    "\n",
    "    # for "
   ]
  },
  {
   "cell_type": "code",
   "execution_count": null,
   "id": "c2915417",
   "metadata": {
    "execution": {
     "iopub.execute_input": "2024-12-13T20:30:00.582245Z",
     "iopub.status.busy": "2024-12-13T20:30:00.581869Z",
     "iopub.status.idle": "2024-12-13T20:30:00.589478Z",
     "shell.execute_reply": "2024-12-13T20:30:00.588401Z",
     "shell.execute_reply.started": "2024-12-13T20:30:00.582212Z"
    },
    "papermill": {
     "duration": 0.002375,
     "end_time": "2024-12-13T20:32:48.137080",
     "exception": false,
     "start_time": "2024-12-13T20:32:48.134705",
     "status": "completed"
    },
    "tags": []
   },
   "outputs": [],
   "source": []
  },
  {
   "cell_type": "code",
   "execution_count": 5,
   "id": "615c5362",
   "metadata": {
    "execution": {
     "iopub.execute_input": "2024-12-13T20:32:48.144935Z",
     "iopub.status.busy": "2024-12-13T20:32:48.143969Z",
     "iopub.status.idle": "2024-12-13T20:32:48.149402Z",
     "shell.execute_reply": "2024-12-13T20:32:48.148300Z"
    },
    "papermill": {
     "duration": 0.012049,
     "end_time": "2024-12-13T20:32:48.152134",
     "exception": false,
     "start_time": "2024-12-13T20:32:48.140085",
     "status": "completed"
    },
    "tags": []
   },
   "outputs": [],
   "source": [
    "# import torch\n",
    "# import torchvision\n",
    "\n",
    "# print(\"PyTorch version:\", torch.__version__)\n",
    "# print(\"Torchvision version:\", torchvision.__version__)\n",
    "# print(\"CUDA is available:\", torch.cuda.is_available())\n",
    "\n",
    "# import sys\n",
    "\n",
    "# !{sys.executable} -m pip install opencv-python matplotlib\n",
    "# !{sys.executable} -m pip install 'git+https://github.com/facebookresearch/sam2.git'\n",
    "\n",
    "# !mkdir -p images\n",
    "# !wget -P images https://raw.githubusercontent.com/facebookresearch/sam2/main/notebooks/images/cars.jpg\n",
    "\n",
    "# !mkdir -p ../checkpoints/\n",
    "# !wget -P ../checkpoints/ https://dl.fbaipublicfiles.com/segment_anything_2/092824/sam2.1_hiera_large.pt"
   ]
  },
  {
   "cell_type": "code",
   "execution_count": 6,
   "id": "7630fc07",
   "metadata": {
    "execution": {
     "iopub.execute_input": "2024-12-13T20:32:48.159135Z",
     "iopub.status.busy": "2024-12-13T20:32:48.158677Z",
     "iopub.status.idle": "2024-12-13T20:32:48.163588Z",
     "shell.execute_reply": "2024-12-13T20:32:48.162467Z"
    },
    "papermill": {
     "duration": 0.011126,
     "end_time": "2024-12-13T20:32:48.166054",
     "exception": false,
     "start_time": "2024-12-13T20:32:48.154928",
     "status": "completed"
    },
    "tags": []
   },
   "outputs": [],
   "source": [
    "# for IM in image_and_mask:\n",
    "#     dcm_t1post = pydicom.dcmread(t1post_images_path + '/' + IM[0])\n",
    "#     dcm_mask = pydicom.dcmread(mask_tumor_image_path + '/' + IM[1])\n",
    "    \n",
    "#     img = ds.pixel_array.astype(float)\n",
    "#     scaled_img = np.uint8((np.maximum(img, 0) / img.max()) * 255)\n",
    "\n",
    "# cv2.imwrite(write_folder + '/' + image.replace('.dcm','.png'), scaled_img)"
   ]
  },
  {
   "cell_type": "code",
   "execution_count": 7,
   "id": "ddde4de5",
   "metadata": {
    "execution": {
     "iopub.execute_input": "2024-12-13T20:32:48.173477Z",
     "iopub.status.busy": "2024-12-13T20:32:48.173076Z",
     "iopub.status.idle": "2024-12-13T20:32:49.354255Z",
     "shell.execute_reply": "2024-12-13T20:32:49.352811Z"
    },
    "papermill": {
     "duration": 1.187827,
     "end_time": "2024-12-13T20:32:49.356911",
     "exception": false,
     "start_time": "2024-12-13T20:32:48.169084",
     "status": "completed"
    },
    "tags": []
   },
   "outputs": [],
   "source": [
    "!rm -rf /kaggle/working/*"
   ]
  }
 ],
 "metadata": {
  "kaggle": {
   "accelerator": "none",
   "dataSources": [
    {
     "datasetId": 6158268,
     "sourceId": 10004472,
     "sourceType": "datasetVersion"
    }
   ],
   "dockerImageVersionId": 30786,
   "isGpuEnabled": false,
   "isInternetEnabled": true,
   "language": "python",
   "sourceType": "notebook"
  },
  "kernelspec": {
   "display_name": "Python 3",
   "language": "python",
   "name": "python3"
  },
  "language_info": {
   "codemirror_mode": {
    "name": "ipython",
    "version": 3
   },
   "file_extension": ".py",
   "mimetype": "text/x-python",
   "name": "python",
   "nbconvert_exporter": "python",
   "pygments_lexer": "ipython3",
   "version": "3.10.14"
  },
  "papermill": {
   "default_parameters": {},
   "duration": 6.029095,
   "end_time": "2024-12-13T20:32:49.880296",
   "environment_variables": {},
   "exception": null,
   "input_path": "__notebook__.ipynb",
   "output_path": "__notebook__.ipynb",
   "parameters": {},
   "start_time": "2024-12-13T20:32:43.851201",
   "version": "2.6.0"
  }
 },
 "nbformat": 4,
 "nbformat_minor": 5
}
