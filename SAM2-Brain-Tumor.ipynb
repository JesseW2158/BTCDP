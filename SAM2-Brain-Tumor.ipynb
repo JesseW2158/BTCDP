{
 "cells": [
  {
   "cell_type": "code",
   "execution_count": 1,
   "id": "dda43c85",
   "metadata": {
    "execution": {
     "iopub.execute_input": "2025-03-04T01:35:31.120985Z",
     "iopub.status.busy": "2025-03-04T01:35:31.120740Z",
     "iopub.status.idle": "2025-03-04T01:35:32.130841Z",
     "shell.execute_reply": "2025-03-04T01:35:32.129736Z"
    },
    "papermill": {
     "duration": 1.01552,
     "end_time": "2025-03-04T01:35:32.132935",
     "exception": false,
     "start_time": "2025-03-04T01:35:31.117415",
     "status": "completed"
    },
    "tags": []
   },
   "outputs": [],
   "source": [
    "!rm -rf /kaggle/working/*"
   ]
  },
  {
   "cell_type": "code",
   "execution_count": 2,
   "id": "09f60fed",
   "metadata": {
    "execution": {
     "iopub.execute_input": "2025-03-04T01:35:32.138702Z",
     "iopub.status.busy": "2025-03-04T01:35:32.138197Z",
     "iopub.status.idle": "2025-03-04T01:35:32.672020Z",
     "shell.execute_reply": "2025-03-04T01:35:32.671119Z"
    },
    "papermill": {
     "duration": 0.53885,
     "end_time": "2025-03-04T01:35:32.674139",
     "exception": false,
     "start_time": "2025-03-04T01:35:32.135289",
     "status": "completed"
    },
    "tags": []
   },
   "outputs": [],
   "source": [
    "import cv2\n",
    "import random\n",
    "import os\n",
    "import math\n",
    "import numpy as np\n",
    "import pydicom\n",
    "import matplotlib.pyplot as plt\n",
    "\n",
    "from PIL import Image\n",
    "from skimage import color\n",
    "\n",
    "import warnings\n",
    "warnings.filterwarnings(\"ignore\")\n",
    "\n",
    "input_dir = '/kaggle/input/brain-tumor-progression-tcia/Brain-Tumor-Progression'\n",
    "output_dir = '/kaggle/working/'"
   ]
  },
  {
   "cell_type": "code",
   "execution_count": 3,
   "id": "e37b51e8",
   "metadata": {
    "execution": {
     "iopub.execute_input": "2025-03-04T01:35:32.679438Z",
     "iopub.status.busy": "2025-03-04T01:35:32.679036Z",
     "iopub.status.idle": "2025-03-04T01:35:32.684378Z",
     "shell.execute_reply": "2025-03-04T01:35:32.683603Z"
    },
    "papermill": {
     "duration": 0.00971,
     "end_time": "2025-03-04T01:35:32.686006",
     "exception": false,
     "start_time": "2025-03-04T01:35:32.676296",
     "status": "completed"
    },
    "tags": []
   },
   "outputs": [],
   "source": [
    "def data_and_mask_to_list(read_dir : str) -> None:\n",
    "    t1post_images = []\n",
    "    mask_tumor_image = []\n",
    "    \n",
    "    for folder in os.listdir(read_dir):\n",
    "        if folder.find(\"T1post\") > -1:\n",
    "            t1post_images_path = [ read_dir + '/' + folder + '/' + image for image in os.listdir(read_dir + '/' + folder) ]\n",
    "        elif folder.find(\"MaskTumor\") > -1:\n",
    "            mask_tumor_images_path = [ read_dir + '/' + folder + '/' + image for image in os.listdir(read_dir + '/' + folder) ]\n",
    "\n",
    "    return list(zip(t1post_images_path, mask_tumor_images_path))"
   ]
  },
  {
   "cell_type": "code",
   "execution_count": 4,
   "id": "3fcdcaf0",
   "metadata": {
    "execution": {
     "iopub.execute_input": "2025-03-04T01:35:32.690758Z",
     "iopub.status.busy": "2025-03-04T01:35:32.690308Z",
     "iopub.status.idle": "2025-03-04T01:35:32.695168Z",
     "shell.execute_reply": "2025-03-04T01:35:32.694173Z"
    },
    "papermill": {
     "duration": 0.009221,
     "end_time": "2025-03-04T01:35:32.697042",
     "exception": false,
     "start_time": "2025-03-04T01:35:32.687821",
     "status": "completed"
    },
    "tags": []
   },
   "outputs": [],
   "source": [
    "def create_needed_folders(parent_folder_name: str) -> None:\n",
    "    os.makedirs(parent_folder_name + '/' + 'Train')\n",
    "    os.makedirs(parent_folder_name + '/' + 'Train/' + 'Mask')\n",
    "    os.makedirs(parent_folder_name + '/' + 'Train/' + 'Image')\n",
    "    \n",
    "    os.makedirs(parent_folder_name + '/' + 'Test')\n",
    "    os.makedirs(parent_folder_name + '/' + 'Test/' + 'Mask')\n",
    "    os.makedirs(parent_folder_name + '/' + 'Test/' + 'Image')   \n",
    "    \n",
    "    os.makedirs(parent_folder_name + '/' + 'Valid')\n",
    "    os.makedirs(parent_folder_name + '/' + 'Valid/' + 'Mask')\n",
    "    os.makedirs(parent_folder_name + '/' + 'Valid/' + 'Image')"
   ]
  },
  {
   "cell_type": "code",
   "execution_count": 5,
   "id": "dbcbfa56",
   "metadata": {
    "execution": {
     "iopub.execute_input": "2025-03-04T01:35:32.701784Z",
     "iopub.status.busy": "2025-03-04T01:35:32.701532Z",
     "iopub.status.idle": "2025-03-04T01:35:33.484082Z",
     "shell.execute_reply": "2025-03-04T01:35:33.483399Z"
    },
    "papermill": {
     "duration": 0.787037,
     "end_time": "2025-03-04T01:35:33.485953",
     "exception": false,
     "start_time": "2025-03-04T01:35:32.698916",
     "status": "completed"
    },
    "tags": []
   },
   "outputs": [],
   "source": [
    "patients = [p for p in os.listdir(input_dir)]\n",
    "patients.remove('LICENSE')\n",
    "\n",
    "data_mask_path_list = []\n",
    "\n",
    "for patient in patients:\n",
    "    os.makedirs(output_dir + patient)\n",
    "    create_needed_folders(output_dir + patient)\n",
    "    for dir in os.listdir(input_dir + '/' + patient):\n",
    "        data_mask_path_list.extend(data_and_mask_to_list(input_dir + \"/\" + patient + \"/\" + dir))\n",
    "\n",
    "random.shuffle(data_mask_path_list)\n",
    "\n",
    "train_data_path_list = data_mask_path_list[: int(len(data_mask_path_list)  * 0.5)]\n",
    "test_data_path_list = data_mask_path_list[int(len(data_mask_path_list) * 0.5) : int(len(data_mask_path_list) * 0.8)]\n",
    "valid_data_path_list = data_mask_path_list[int(len(data_mask_path_list) * 0.8) :]\n",
    "\n",
    "trainX, trainY = [x[0] for x in train_data_path_list], [y[1] for y in train_data_path_list]\n",
    "testX, testY = [x[0] for x in test_data_path_list], [y[1] for y in test_data_path_list]\n",
    "validX, validY = [x[0] for x in valid_data_path_list], [y[1] for y in valid_data_path_list]"
   ]
  },
  {
   "cell_type": "code",
   "execution_count": 6,
   "id": "c5593f83",
   "metadata": {
    "execution": {
     "iopub.execute_input": "2025-03-04T01:35:33.493164Z",
     "iopub.status.busy": "2025-03-04T01:35:33.492909Z",
     "iopub.status.idle": "2025-03-04T01:35:33.498645Z",
     "shell.execute_reply": "2025-03-04T01:35:33.498101Z"
    },
    "papermill": {
     "duration": 0.011069,
     "end_time": "2025-03-04T01:35:33.500152",
     "exception": false,
     "start_time": "2025-03-04T01:35:33.489083",
     "status": "completed"
    },
    "scrolled": true,
    "tags": []
   },
   "outputs": [],
   "source": [
    "def DICOM_to_PNG(dataset: str) -> None:\n",
    "    for case in dataset:\n",
    "        patient = case[case.find('PGBM-0'): case.find('PGBM-0') + 8]\n",
    "\n",
    "        folder = None\n",
    "        if case in trainX or case in trainY:\n",
    "            folder = 'Train'\n",
    "        elif case in testX or case in testY:\n",
    "            folder = 'Test'\n",
    "        elif case in validX or case in validY:\n",
    "            folder = 'Valid'\n",
    "        \n",
    "        if case.find('T1post') != -1:\n",
    "            folder += '/Image'\n",
    "        else:\n",
    "            folder += '/Mask'\n",
    "\n",
    "        name = case[case.find('.dcm') - 4: case.find('.dcm')]\n",
    "        img = pydicom.dcmread(case).pixel_array.astype(float)\n",
    "        scaled_img = np.uint8((np.maximum(img, 0) / img.max()) * 255)\n",
    "        cv2.imwrite(output_dir + patient + '/' + folder + '/' + name + '.png', scaled_img)"
   ]
  },
  {
   "cell_type": "code",
   "execution_count": 7,
   "id": "b64b92e4",
   "metadata": {
    "execution": {
     "iopub.execute_input": "2025-03-04T01:35:33.504965Z",
     "iopub.status.busy": "2025-03-04T01:35:33.504724Z",
     "iopub.status.idle": "2025-03-04T01:35:52.717055Z",
     "shell.execute_reply": "2025-03-04T01:35:52.716101Z"
    },
    "papermill": {
     "duration": 19.216969,
     "end_time": "2025-03-04T01:35:52.719070",
     "exception": false,
     "start_time": "2025-03-04T01:35:33.502101",
     "status": "completed"
    },
    "tags": []
   },
   "outputs": [],
   "source": [
    "DICOM_to_PNG(trainX)\n",
    "DICOM_to_PNG(trainY)\n",
    "DICOM_to_PNG(testX)\n",
    "DICOM_to_PNG(testY)\n",
    "DICOM_to_PNG(validX)\n",
    "DICOM_to_PNG(validY)"
   ]
  },
  {
   "cell_type": "code",
   "execution_count": 8,
   "id": "38cb0137",
   "metadata": {
    "execution": {
     "iopub.execute_input": "2025-03-04T01:35:52.724103Z",
     "iopub.status.busy": "2025-03-04T01:35:52.723843Z",
     "iopub.status.idle": "2025-03-04T01:41:54.817080Z",
     "shell.execute_reply": "2025-03-04T01:41:54.815916Z"
    },
    "papermill": {
     "duration": 362.098056,
     "end_time": "2025-03-04T01:41:54.819206",
     "exception": false,
     "start_time": "2025-03-04T01:35:52.721150",
     "status": "completed"
    },
    "tags": []
   },
   "outputs": [
    {
     "name": "stdout",
     "output_type": "stream",
     "text": [
      "PyTorch version: 2.4.0\n",
      "Torchvision version: 0.19.0\n",
      "CUDA is available: True\n",
      "Requirement already satisfied: opencv-python in /opt/conda/lib/python3.10/site-packages (4.10.0.84)\r\n",
      "Requirement already satisfied: matplotlib in /opt/conda/lib/python3.10/site-packages (3.7.5)\r\n",
      "Requirement already satisfied: numpy>=1.21.2 in /opt/conda/lib/python3.10/site-packages (from opencv-python) (1.26.4)\r\n",
      "Requirement already satisfied: contourpy>=1.0.1 in /opt/conda/lib/python3.10/site-packages (from matplotlib) (1.2.1)\r\n",
      "Requirement already satisfied: cycler>=0.10 in /opt/conda/lib/python3.10/site-packages (from matplotlib) (0.12.1)\r\n",
      "Requirement already satisfied: fonttools>=4.22.0 in /opt/conda/lib/python3.10/site-packages (from matplotlib) (4.53.0)\r\n",
      "Requirement already satisfied: kiwisolver>=1.0.1 in /opt/conda/lib/python3.10/site-packages (from matplotlib) (1.4.5)\r\n",
      "Requirement already satisfied: packaging>=20.0 in /opt/conda/lib/python3.10/site-packages (from matplotlib) (21.3)\r\n",
      "Requirement already satisfied: pillow>=6.2.0 in /opt/conda/lib/python3.10/site-packages (from matplotlib) (10.3.0)\r\n",
      "Requirement already satisfied: pyparsing>=2.3.1 in /opt/conda/lib/python3.10/site-packages (from matplotlib) (3.1.2)\r\n",
      "Requirement already satisfied: python-dateutil>=2.7 in /opt/conda/lib/python3.10/site-packages (from matplotlib) (2.9.0.post0)\r\n",
      "Requirement already satisfied: six>=1.5 in /opt/conda/lib/python3.10/site-packages (from python-dateutil>=2.7->matplotlib) (1.16.0)\r\n",
      "Collecting git+https://github.com/facebookresearch/sam2.git\r\n",
      "  Cloning https://github.com/facebookresearch/sam2.git to /tmp/pip-req-build-q396yl4z\r\n",
      "  Running command git clone --filter=blob:none --quiet https://github.com/facebookresearch/sam2.git /tmp/pip-req-build-q396yl4z\r\n",
      "  Resolved https://github.com/facebookresearch/sam2.git to commit 2b90b9f5ceec907a1c18123530e92e794ad901a4\r\n",
      "  Installing build dependencies ... \u001b[?25l-\b \b\\\b \b|\b \b/\b \b-\b \b\\\b \b|\b \b/\b \b-\b \b\\\b \b|\b \b/\b \b-\b \b\\\b \b|\b \b/\b \b-\b \b\\\b \b|\b \b/\b \b-\b \b\\\b \b|\b \b/\b \b-\b \b\\\b \b|\b \b/\b \b-\b \b\\\b \b|\b \b/\b \b-\b \b\\\b \b|\b \b/\b \b-\b \b\\\b \b|\b \b/\b \b-\b \b\\\b \b|\b \b/\b \b-\b \b\\\b \b|\b \b/\b \b-\b \b\\\b \b|\b \b/\b \b-\b \b\\\b \b|\b \b/\b \b-\b \b\\\b \b|\b \b/\b \b-\b \b\\\b \b|\b \b/\b \b-\b \b\\\b \b|\b \b/\b \b-\b \b\\\b \b|\b \b/\b \b-\b \b\\\b \b|\b \b/\b \b-\b \b\\\b \b|\b \b/\b \b-\b \b\\\b \b|\b \b/\b \b-\b \b\\\b \b|\b \b/\b \b-\b \b\\\b \b|\b \b/\b \b-\b \b\\\b \b|\b \b/\b \b-\b \b\\\b \b|\b \b/\b \b-\b \b\\\b \b|\b \b/\b \b-\b \b\\\b \b|\b \b/\b \b-\b \b\\\b \b|\b \b/\b \b-\b \b\\\b \b|\b \b/\b \b-\b \b\\\b \b|\b \b/\b \b-\b \b\\\b \b|\b \b/\b \b-\b \b\\\b \b|\b \b/\b \b-\b \b\\\b \b|\b \b/\b \b-\b \b\\\b \b|\b \b/\b \b-\b \b\\\b \b|\b \b/\b \b-\b \b\\\b \b|\b \b/\b \b-\b \b\\\b \b|\b \b/\b \b-\b \b\\\b \b|\b \b/\b \b-\b \b\\\b \b|\b \b/\b \b-\b \b\\\b \b|\b \b/\b \b-\b \b\\\b \b|\b \b/\b \b-\b \b\\\b \b|\b \b/\b \b-\b \b\\\b \b|\b \b/\b \b-\b \b\\\b \b|\b \b/\b \b-\b \b\\\b \b|\b \b/\b \b-\b \b\\\b \b|\b \b/\b \b-\b \b\\\b \b|\b \b/\b \b-\b \b\\\b \b|\b \b/\b \b-\b \b\\\b \b|\b \b/\b \b-\b \b\\\b \b|\b \b/\b \b-\b \b\\\b \b|\b \b/\b \b-\b \b\\\b \b|\b \b/\b \b-\b \b\\\b \b|\b \b/\b \b-\b \b\\\b \b|\b \b/\b \b-\b \b\\\b \b|\b \b/\b \b-\b \b\\\b \b|\b \b/\b \b-\b \b\\\b \b|\b \b/\b \b-\b \b\\\b \b|\b \b/\b \b-\b \b\\\b \b|\b \b/\b \b-\b \b\\\b \b|\b \b/\b \b-\b \b\\\b \b|\b \b/\b \b-\b \b\\\b \b|\b \b/\b \b-\b \b\\\b \b|\b \b/\b \b-\b \b\\\b \b|\b \b/\b \b-\b \b\\\b \b|\b \b/\b \b-\b \b\\\b \b|\b \b/\b \b-\b \b\\\b \b|\b \b/\b \b-\b \b\\\b \b|\b \b/\b \b-\b \b\\\b \b|\b \b/\b \b-\b \b\\\b \b|\b \b/\b \b-\b \b\\\b \b|\b \b/\b \b-\b \b\\\b \b|\b \b/\b \b-\b \b\\\b \b|\b \b/\b \b-\b \b\\\b \b|\b \b/\b \b-\b \b\\\b \b|\b \b/\b \b-\b \b\\\b \b|\b \b/\b \b-\b \b\\\b \b|\b \b/\b \b-\b \b\\\b \b|\b \b/\b \b-\b \b\\\b \b|\b \b/\b \b-\b \b\\\b \b|\b \b/\b \b-\b \b\\\b \b|\b \b/\b \b-\b \b\\\b \b|\b \b/\b \bdone\r\n",
      "\u001b[?25h  Getting requirements to build wheel ... \u001b[?25l-\b \b\\\b \bdone\r\n",
      "\u001b[?25h  Preparing metadata (pyproject.toml) ... \u001b[?25l-\b \b\\\b \bdone\r\n",
      "\u001b[?25hCollecting torch>=2.5.1 (from SAM-2==1.0)\r\n",
      "  Using cached torch-2.6.0-cp310-cp310-manylinux1_x86_64.whl.metadata (28 kB)\r\n",
      "Collecting torchvision>=0.20.1 (from SAM-2==1.0)\r\n",
      "  Downloading torchvision-0.21.0-cp310-cp310-manylinux1_x86_64.whl.metadata (6.1 kB)\r\n",
      "Requirement already satisfied: numpy>=1.24.4 in /opt/conda/lib/python3.10/site-packages (from SAM-2==1.0) (1.26.4)\r\n",
      "Requirement already satisfied: tqdm>=4.66.1 in /opt/conda/lib/python3.10/site-packages (from SAM-2==1.0) (4.66.4)\r\n",
      "Collecting hydra-core>=1.3.2 (from SAM-2==1.0)\r\n",
      "  Downloading hydra_core-1.3.2-py3-none-any.whl.metadata (5.5 kB)\r\n",
      "Collecting iopath>=0.1.10 (from SAM-2==1.0)\r\n",
      "  Downloading iopath-0.1.10.tar.gz (42 kB)\r\n",
      "\u001b[2K     \u001b[90m━━━━━━━━━━━━━━━━━━━━━━━━━━━━━━━━━━━━━━━━\u001b[0m \u001b[32m42.2/42.2 kB\u001b[0m \u001b[31m1.9 MB/s\u001b[0m eta \u001b[36m0:00:00\u001b[0m\r\n",
      "\u001b[?25h  Preparing metadata (setup.py) ... \u001b[?25l-\b \bdone\r\n",
      "\u001b[?25hRequirement already satisfied: pillow>=9.4.0 in /opt/conda/lib/python3.10/site-packages (from SAM-2==1.0) (10.3.0)\r\n",
      "Collecting omegaconf<2.4,>=2.2 (from hydra-core>=1.3.2->SAM-2==1.0)\r\n",
      "  Downloading omegaconf-2.3.0-py3-none-any.whl.metadata (3.9 kB)\r\n",
      "Collecting antlr4-python3-runtime==4.9.* (from hydra-core>=1.3.2->SAM-2==1.0)\r\n",
      "  Downloading antlr4-python3-runtime-4.9.3.tar.gz (117 kB)\r\n",
      "\u001b[2K     \u001b[90m━━━━━━━━━━━━━━━━━━━━━━━━━━━━━━━━━━━━━━━\u001b[0m \u001b[32m117.0/117.0 kB\u001b[0m \u001b[31m6.1 MB/s\u001b[0m eta \u001b[36m0:00:00\u001b[0m\r\n",
      "\u001b[?25h  Preparing metadata (setup.py) ... \u001b[?25l-\b \bdone\r\n",
      "\u001b[?25hRequirement already satisfied: packaging in /opt/conda/lib/python3.10/site-packages (from hydra-core>=1.3.2->SAM-2==1.0) (21.3)\r\n",
      "Requirement already satisfied: typing_extensions in /opt/conda/lib/python3.10/site-packages (from iopath>=0.1.10->SAM-2==1.0) (4.12.2)\r\n",
      "Collecting portalocker (from iopath>=0.1.10->SAM-2==1.0)\r\n",
      "  Downloading portalocker-3.1.1-py3-none-any.whl.metadata (8.6 kB)\r\n",
      "Requirement already satisfied: filelock in /opt/conda/lib/python3.10/site-packages (from torch>=2.5.1->SAM-2==1.0) (3.15.1)\r\n",
      "Requirement already satisfied: networkx in /opt/conda/lib/python3.10/site-packages (from torch>=2.5.1->SAM-2==1.0) (3.3)\r\n",
      "Requirement already satisfied: jinja2 in /opt/conda/lib/python3.10/site-packages (from torch>=2.5.1->SAM-2==1.0) (3.1.4)\r\n",
      "Requirement already satisfied: fsspec in /opt/conda/lib/python3.10/site-packages (from torch>=2.5.1->SAM-2==1.0) (2024.6.1)\r\n",
      "Collecting nvidia-cuda-nvrtc-cu12==12.4.127 (from torch>=2.5.1->SAM-2==1.0)\r\n",
      "  Using cached nvidia_cuda_nvrtc_cu12-12.4.127-py3-none-manylinux2014_x86_64.whl.metadata (1.5 kB)\r\n",
      "Collecting nvidia-cuda-runtime-cu12==12.4.127 (from torch>=2.5.1->SAM-2==1.0)\r\n",
      "  Using cached nvidia_cuda_runtime_cu12-12.4.127-py3-none-manylinux2014_x86_64.whl.metadata (1.5 kB)\r\n",
      "Collecting nvidia-cuda-cupti-cu12==12.4.127 (from torch>=2.5.1->SAM-2==1.0)\r\n",
      "  Using cached nvidia_cuda_cupti_cu12-12.4.127-py3-none-manylinux2014_x86_64.whl.metadata (1.6 kB)\r\n",
      "Collecting nvidia-cudnn-cu12==9.1.0.70 (from torch>=2.5.1->SAM-2==1.0)\r\n",
      "  Using cached nvidia_cudnn_cu12-9.1.0.70-py3-none-manylinux2014_x86_64.whl.metadata (1.6 kB)\r\n",
      "Collecting nvidia-cublas-cu12==12.4.5.8 (from torch>=2.5.1->SAM-2==1.0)\r\n",
      "  Using cached nvidia_cublas_cu12-12.4.5.8-py3-none-manylinux2014_x86_64.whl.metadata (1.5 kB)\r\n",
      "Collecting nvidia-cufft-cu12==11.2.1.3 (from torch>=2.5.1->SAM-2==1.0)\r\n",
      "  Using cached nvidia_cufft_cu12-11.2.1.3-py3-none-manylinux2014_x86_64.whl.metadata (1.5 kB)\r\n",
      "Collecting nvidia-curand-cu12==10.3.5.147 (from torch>=2.5.1->SAM-2==1.0)\r\n",
      "  Using cached nvidia_curand_cu12-10.3.5.147-py3-none-manylinux2014_x86_64.whl.metadata (1.5 kB)\r\n",
      "Collecting nvidia-cusolver-cu12==11.6.1.9 (from torch>=2.5.1->SAM-2==1.0)\r\n",
      "  Using cached nvidia_cusolver_cu12-11.6.1.9-py3-none-manylinux2014_x86_64.whl.metadata (1.6 kB)\r\n",
      "Collecting nvidia-cusparse-cu12==12.3.1.170 (from torch>=2.5.1->SAM-2==1.0)\r\n",
      "  Using cached nvidia_cusparse_cu12-12.3.1.170-py3-none-manylinux2014_x86_64.whl.metadata (1.6 kB)\r\n",
      "Collecting nvidia-cusparselt-cu12==0.6.2 (from torch>=2.5.1->SAM-2==1.0)\r\n",
      "  Using cached nvidia_cusparselt_cu12-0.6.2-py3-none-manylinux2014_x86_64.whl.metadata (6.8 kB)\r\n",
      "Collecting nvidia-nccl-cu12==2.21.5 (from torch>=2.5.1->SAM-2==1.0)\r\n",
      "  Using cached nvidia_nccl_cu12-2.21.5-py3-none-manylinux2014_x86_64.whl.metadata (1.8 kB)\r\n",
      "Collecting nvidia-nvtx-cu12==12.4.127 (from torch>=2.5.1->SAM-2==1.0)\r\n",
      "  Using cached nvidia_nvtx_cu12-12.4.127-py3-none-manylinux2014_x86_64.whl.metadata (1.7 kB)\r\n",
      "Collecting nvidia-nvjitlink-cu12==12.4.127 (from torch>=2.5.1->SAM-2==1.0)\r\n",
      "  Using cached nvidia_nvjitlink_cu12-12.4.127-py3-none-manylinux2014_x86_64.whl.metadata (1.5 kB)\r\n",
      "Collecting triton==3.2.0 (from torch>=2.5.1->SAM-2==1.0)\r\n",
      "  Using cached triton-3.2.0-cp310-cp310-manylinux_2_17_x86_64.manylinux2014_x86_64.whl.metadata (1.4 kB)\r\n",
      "Collecting sympy==1.13.1 (from torch>=2.5.1->SAM-2==1.0)\r\n",
      "  Using cached sympy-1.13.1-py3-none-any.whl.metadata (12 kB)\r\n",
      "Requirement already satisfied: mpmath<1.4,>=1.1.0 in /opt/conda/lib/python3.10/site-packages (from sympy==1.13.1->torch>=2.5.1->SAM-2==1.0) (1.3.0)\r\n",
      "Requirement already satisfied: PyYAML>=5.1.0 in /opt/conda/lib/python3.10/site-packages (from omegaconf<2.4,>=2.2->hydra-core>=1.3.2->SAM-2==1.0) (6.0.2)\r\n",
      "Requirement already satisfied: MarkupSafe>=2.0 in /opt/conda/lib/python3.10/site-packages (from jinja2->torch>=2.5.1->SAM-2==1.0) (2.1.5)\r\n",
      "Requirement already satisfied: pyparsing!=3.0.5,>=2.0.2 in /opt/conda/lib/python3.10/site-packages (from packaging->hydra-core>=1.3.2->SAM-2==1.0) (3.1.2)\r\n",
      "Downloading hydra_core-1.3.2-py3-none-any.whl (154 kB)\r\n",
      "\u001b[2K   \u001b[90m━━━━━━━━━━━━━━━━━━━━━━━━━━━━━━━━━━━━━━━━\u001b[0m \u001b[32m154.5/154.5 kB\u001b[0m \u001b[31m10.9 MB/s\u001b[0m eta \u001b[36m0:00:00\u001b[0m\r\n",
      "\u001b[?25hUsing cached torch-2.6.0-cp310-cp310-manylinux1_x86_64.whl (766.7 MB)\r\n",
      "Using cached nvidia_cublas_cu12-12.4.5.8-py3-none-manylinux2014_x86_64.whl (363.4 MB)\r\n",
      "Using cached nvidia_cuda_cupti_cu12-12.4.127-py3-none-manylinux2014_x86_64.whl (13.8 MB)\r\n",
      "Using cached nvidia_cuda_nvrtc_cu12-12.4.127-py3-none-manylinux2014_x86_64.whl (24.6 MB)\r\n",
      "Using cached nvidia_cuda_runtime_cu12-12.4.127-py3-none-manylinux2014_x86_64.whl (883 kB)\r\n",
      "Using cached nvidia_cudnn_cu12-9.1.0.70-py3-none-manylinux2014_x86_64.whl (664.8 MB)\r\n",
      "Using cached nvidia_cufft_cu12-11.2.1.3-py3-none-manylinux2014_x86_64.whl (211.5 MB)\r\n",
      "Using cached nvidia_curand_cu12-10.3.5.147-py3-none-manylinux2014_x86_64.whl (56.3 MB)\r\n",
      "Using cached nvidia_cusolver_cu12-11.6.1.9-py3-none-manylinux2014_x86_64.whl (127.9 MB)\r\n",
      "Using cached nvidia_cusparse_cu12-12.3.1.170-py3-none-manylinux2014_x86_64.whl (207.5 MB)\r\n",
      "Using cached nvidia_cusparselt_cu12-0.6.2-py3-none-manylinux2014_x86_64.whl (150.1 MB)\r\n",
      "Using cached nvidia_nccl_cu12-2.21.5-py3-none-manylinux2014_x86_64.whl (188.7 MB)\r\n",
      "Using cached nvidia_nvjitlink_cu12-12.4.127-py3-none-manylinux2014_x86_64.whl (21.1 MB)\r\n",
      "Using cached nvidia_nvtx_cu12-12.4.127-py3-none-manylinux2014_x86_64.whl (99 kB)\r\n",
      "Using cached sympy-1.13.1-py3-none-any.whl (6.2 MB)\r\n",
      "Using cached triton-3.2.0-cp310-cp310-manylinux_2_17_x86_64.manylinux2014_x86_64.whl (253.1 MB)\r\n",
      "Downloading torchvision-0.21.0-cp310-cp310-manylinux1_x86_64.whl (7.2 MB)\r\n",
      "\u001b[2K   \u001b[90m━━━━━━━━━━━━━━━━━━━━━━━━━━━━━━━━━━━━━━━━\u001b[0m \u001b[32m7.2/7.2 MB\u001b[0m \u001b[31m2.0 MB/s\u001b[0m eta \u001b[36m0:00:00\u001b[0m\r\n",
      "\u001b[?25hDownloading omegaconf-2.3.0-py3-none-any.whl (79 kB)\r\n",
      "\u001b[2K   \u001b[90m━━━━━━━━━━━━━━━━━━━━━━━━━━━━━━━━━━━━━━━━\u001b[0m \u001b[32m79.5/79.5 kB\u001b[0m \u001b[31m117.7 kB/s\u001b[0m eta \u001b[36m0:00:00\u001b[0m\r\n",
      "\u001b[?25hDownloading portalocker-3.1.1-py3-none-any.whl (19 kB)\r\n",
      "Building wheels for collected packages: SAM-2, antlr4-python3-runtime, iopath\r\n",
      "  Building wheel for SAM-2 (pyproject.toml) ... \u001b[?25l-\b \b\\\b \b|\b \b/\b \b-\b \b\\\b \bdone\r\n",
      "\u001b[?25h  Created wheel for SAM-2: filename=sam_2-1.0-cp310-cp310-linux_x86_64.whl size=548309 sha256=6a2d9e469e3acb4dc5af15043855cd5263fe20df685ac92225bf1a2761a26c0c\r\n",
      "  Stored in directory: /tmp/pip-ephem-wheel-cache-t14syjnx/wheels/d6/f6/ae/09f6d3279d0af0a79da30e464eab23c2240159e6ef903f712a\r\n",
      "  Building wheel for antlr4-python3-runtime (setup.py) ... \u001b[?25l-\b \b\\\b \bdone\r\n",
      "\u001b[?25h  Created wheel for antlr4-python3-runtime: filename=antlr4_python3_runtime-4.9.3-py3-none-any.whl size=144554 sha256=4ab8de7a3f13592931a84cb1d05baa22726a06fafd5622ffb75eb2aeb01e80e1\r\n",
      "  Stored in directory: /root/.cache/pip/wheels/12/93/dd/1f6a127edc45659556564c5730f6d4e300888f4bca2d4c5a88\r\n",
      "  Building wheel for iopath (setup.py) ... \u001b[?25l-\b \b\\\b \bdone\r\n",
      "\u001b[?25h  Created wheel for iopath: filename=iopath-0.1.10-py3-none-any.whl size=31532 sha256=fed33ff16c169086c30d48fe404dbb668e3806b5ad98c51e53542d6e888feb27\r\n",
      "  Stored in directory: /root/.cache/pip/wheels/9a/a3/b6/ac0fcd1b4ed5cfeb3db92e6a0e476cfd48ed0df92b91080c1d\r\n",
      "Successfully built SAM-2 antlr4-python3-runtime iopath\r\n",
      "Installing collected packages: triton, nvidia-cusparselt-cu12, antlr4-python3-runtime, sympy, portalocker, omegaconf, nvidia-nvtx-cu12, nvidia-nvjitlink-cu12, nvidia-nccl-cu12, nvidia-curand-cu12, nvidia-cufft-cu12, nvidia-cuda-runtime-cu12, nvidia-cuda-nvrtc-cu12, nvidia-cuda-cupti-cu12, nvidia-cublas-cu12, nvidia-cusparse-cu12, nvidia-cudnn-cu12, iopath, hydra-core, nvidia-cusolver-cu12, torch, torchvision, SAM-2\r\n",
      "  Attempting uninstall: sympy\r\n",
      "    Found existing installation: sympy 1.13.3\r\n",
      "    Uninstalling sympy-1.13.3:\r\n",
      "      Successfully uninstalled sympy-1.13.3\r\n",
      "  Attempting uninstall: torch\r\n",
      "    Found existing installation: torch 2.4.0\r\n",
      "    Uninstalling torch-2.4.0:\r\n",
      "      Successfully uninstalled torch-2.4.0\r\n",
      "  Attempting uninstall: torchvision\r\n",
      "    Found existing installation: torchvision 0.19.0\r\n",
      "    Uninstalling torchvision-0.19.0:\r\n",
      "      Successfully uninstalled torchvision-0.19.0\r\n",
      "\u001b[31mERROR: pip's dependency resolver does not currently take into account all the packages that are installed. This behaviour is the source of the following dependency conflicts.\r\n",
      "fastai 2.7.17 requires torch<2.5,>=1.10, but you have torch 2.6.0 which is incompatible.\u001b[0m\u001b[31m\r\n",
      "\u001b[0mSuccessfully installed SAM-2-1.0 antlr4-python3-runtime-4.9.3 hydra-core-1.3.2 iopath-0.1.10 nvidia-cublas-cu12-12.4.5.8 nvidia-cuda-cupti-cu12-12.4.127 nvidia-cuda-nvrtc-cu12-12.4.127 nvidia-cuda-runtime-cu12-12.4.127 nvidia-cudnn-cu12-9.1.0.70 nvidia-cufft-cu12-11.2.1.3 nvidia-curand-cu12-10.3.5.147 nvidia-cusolver-cu12-11.6.1.9 nvidia-cusparse-cu12-12.3.1.170 nvidia-cusparselt-cu12-0.6.2 nvidia-nccl-cu12-2.21.5 nvidia-nvjitlink-cu12-12.4.127 nvidia-nvtx-cu12-12.4.127 omegaconf-2.3.0 portalocker-3.1.1 sympy-1.13.1 torch-2.6.0 torchvision-0.21.0 triton-3.2.0\r\n",
      "--2025-03-04 01:41:51--  https://dl.fbaipublicfiles.com/segment_anything_2/092824/sam2.1_hiera_large.pt\r\n",
      "Resolving dl.fbaipublicfiles.com (dl.fbaipublicfiles.com)... 3.163.189.96, 3.163.189.51, 3.163.189.14, ...\r\n",
      "Connecting to dl.fbaipublicfiles.com (dl.fbaipublicfiles.com)|3.163.189.96|:443... connected.\r\n",
      "HTTP request sent, awaiting response... 200 OK\r\n",
      "Length: 898083611 (856M) [application/vnd.snesdev-page-table]\r\n",
      "Saving to: '../checkpoints/sam2.1_hiera_large.pt'\r\n",
      "\r\n",
      "sam2.1_hiera_large. 100%[===================>] 856.48M   264MB/s    in 3.3s    \r\n",
      "\r\n",
      "2025-03-04 01:41:54 (261 MB/s) - '../checkpoints/sam2.1_hiera_large.pt' saved [898083611/898083611]\r\n",
      "\r\n"
     ]
    }
   ],
   "source": [
    "import torch\n",
    "import torchvision\n",
    "\n",
    "print(\"PyTorch version:\", torch.__version__)\n",
    "print(\"Torchvision version:\", torchvision.__version__)\n",
    "print(\"CUDA is available:\", torch.cuda.is_available())\n",
    "\n",
    "import sys\n",
    "\n",
    "!{sys.executable} -m pip install opencv-python matplotlib\n",
    "!{sys.executable} -m pip install 'git+https://github.com/facebookresearch/sam2.git'\n",
    "\n",
    "!mkdir -p ../checkpoints/\n",
    "!wget -P ../checkpoints/ https://dl.fbaipublicfiles.com/segment_anything_2/092824/sam2.1_hiera_large.pt"
   ]
  }
 ],
 "metadata": {
  "kaggle": {
   "accelerator": "nvidiaTeslaT4",
   "dataSources": [
    {
     "datasetId": 6158268,
     "sourceId": 10004472,
     "sourceType": "datasetVersion"
    }
   ],
   "dockerImageVersionId": 30786,
   "isGpuEnabled": true,
   "isInternetEnabled": true,
   "language": "python",
   "sourceType": "notebook"
  },
  "kernelspec": {
   "display_name": "Python 3",
   "language": "python",
   "name": "python3"
  },
  "language_info": {
   "codemirror_mode": {
    "name": "ipython",
    "version": 3
   },
   "file_extension": ".py",
   "mimetype": "text/x-python",
   "name": "python",
   "nbconvert_exporter": "python",
   "pygments_lexer": "ipython3",
   "version": "3.10.14"
  },
  "papermill": {
   "default_parameters": {},
   "duration": 387.762745,
   "end_time": "2025-03-04T01:41:56.265486",
   "environment_variables": {},
   "exception": null,
   "input_path": "__notebook__.ipynb",
   "output_path": "__notebook__.ipynb",
   "parameters": {},
   "start_time": "2025-03-04T01:35:28.502741",
   "version": "2.6.0"
  }
 },
 "nbformat": 4,
 "nbformat_minor": 5
}
